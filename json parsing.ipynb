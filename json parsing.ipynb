{
 "cells": [
  {
   "cell_type": "markdown",
   "metadata": {},
   "source": [
    "# Final code:"
   ]
  },
  {
   "cell_type": "code",
   "execution_count": 27,
   "metadata": {},
   "outputs": [],
   "source": [
    "import requests\n",
    "import json\n",
    "import pandas as pd"
   ]
  },
  {
   "cell_type": "code",
   "execution_count": 41,
   "metadata": {},
   "outputs": [],
   "source": [
    "origin = \"NQZ\"\n",
    "destination = \"ALA\"\n",
    "month = \"2020-09-10\"\n",
    "url_initial = \"http://api.travelpayouts.com/v2/prices/month-matrix?currency=kzt&origin={}&destination={}&show_to_affiliates=false&month={}&token=200a89e6d3c3eea2c02ea3b8e200e629\"\n",
    "\n",
    "url_needed = url_initial.format(origin, destination, month)\n",
    "\n",
    "response = requests.request(\"GET\", url)\n",
    "data = json.loads(response.text)\n",
    "\n",
    "prices = []\n",
    "from_ = []\n",
    "to_ = []\n",
    "dates = []\n",
    "trip_class = []\n",
    "duration = []\n",
    "distance = []\n",
    "\n",
    "for i in data[\"data\"]:\n",
    "    prices.append(i[\"value\"])\n",
    "    from_.append(i[\"origin\"])\n",
    "    to_.append(i[\"destination\"])\n",
    "    dates.append(i[\"depart_date\"])\n",
    "    trip_class.append(i[\"trip_class\"])\n",
    "    duration.append(i[\"duration\"])\n",
    "    distance.append(i[\"distance\"])\n",
    "\n",
    "dictionary = {\"Date\": dates, \"Price\": prices, \"From\": from_, \"To\": to_, \"Class\": trip_class, \"Duration\": duration, \"Distance\": distance}\n",
    "\n",
    "df = pd.DataFrame(dictionary)"
   ]
  },
  {
   "cell_type": "code",
   "execution_count": 39,
   "metadata": {},
   "outputs": [
    {
     "data": {
      "text/html": [
       "<div>\n",
       "<style scoped>\n",
       "    .dataframe tbody tr th:only-of-type {\n",
       "        vertical-align: middle;\n",
       "    }\n",
       "\n",
       "    .dataframe tbody tr th {\n",
       "        vertical-align: top;\n",
       "    }\n",
       "\n",
       "    .dataframe thead th {\n",
       "        text-align: right;\n",
       "    }\n",
       "</style>\n",
       "<table border=\"1\" class=\"dataframe\">\n",
       "  <thead>\n",
       "    <tr style=\"text-align: right;\">\n",
       "      <th></th>\n",
       "      <th>Date</th>\n",
       "      <th>Price</th>\n",
       "      <th>From</th>\n",
       "      <th>To</th>\n",
       "      <th>Class</th>\n",
       "      <th>Duration</th>\n",
       "      <th>Distance</th>\n",
       "    </tr>\n",
       "  </thead>\n",
       "  <tbody>\n",
       "    <tr>\n",
       "      <th>0</th>\n",
       "      <td>2020-09-08</td>\n",
       "      <td>18770.26</td>\n",
       "      <td>NQZ</td>\n",
       "      <td>ALA</td>\n",
       "      <td>0</td>\n",
       "      <td>100</td>\n",
       "      <td>958</td>\n",
       "    </tr>\n",
       "    <tr>\n",
       "      <th>1</th>\n",
       "      <td>2020-09-09</td>\n",
       "      <td>15634.43</td>\n",
       "      <td>NQZ</td>\n",
       "      <td>ALA</td>\n",
       "      <td>0</td>\n",
       "      <td>105</td>\n",
       "      <td>958</td>\n",
       "    </tr>\n",
       "    <tr>\n",
       "      <th>2</th>\n",
       "      <td>2020-09-10</td>\n",
       "      <td>15835.66</td>\n",
       "      <td>NQZ</td>\n",
       "      <td>ALA</td>\n",
       "      <td>0</td>\n",
       "      <td>105</td>\n",
       "      <td>958</td>\n",
       "    </tr>\n",
       "    <tr>\n",
       "      <th>3</th>\n",
       "      <td>2020-09-11</td>\n",
       "      <td>18798.21</td>\n",
       "      <td>NQZ</td>\n",
       "      <td>ALA</td>\n",
       "      <td>0</td>\n",
       "      <td>95</td>\n",
       "      <td>958</td>\n",
       "    </tr>\n",
       "    <tr>\n",
       "      <th>4</th>\n",
       "      <td>2020-09-12</td>\n",
       "      <td>15835.66</td>\n",
       "      <td>NQZ</td>\n",
       "      <td>ALA</td>\n",
       "      <td>0</td>\n",
       "      <td>100</td>\n",
       "      <td>958</td>\n",
       "    </tr>\n",
       "  </tbody>\n",
       "</table>\n",
       "</div>"
      ],
      "text/plain": [
       "         Date     Price From   To  Class  Duration  Distance\n",
       "0  2020-09-08  18770.26  NQZ  ALA      0       100       958\n",
       "1  2020-09-09  15634.43  NQZ  ALA      0       105       958\n",
       "2  2020-09-10  15835.66  NQZ  ALA      0       105       958\n",
       "3  2020-09-11  18798.21  NQZ  ALA      0        95       958\n",
       "4  2020-09-12  15835.66  NQZ  ALA      0       100       958"
      ]
     },
     "execution_count": 39,
     "metadata": {},
     "output_type": "execute_result"
    }
   ],
   "source": [
    "df.head()"
   ]
  },
  {
   "cell_type": "code",
   "execution_count": null,
   "metadata": {},
   "outputs": [],
   "source": []
  },
  {
   "cell_type": "code",
   "execution_count": null,
   "metadata": {},
   "outputs": [],
   "source": []
  },
  {
   "cell_type": "code",
   "execution_count": null,
   "metadata": {},
   "outputs": [],
   "source": []
  },
  {
   "cell_type": "code",
   "execution_count": null,
   "metadata": {},
   "outputs": [],
   "source": []
  },
  {
   "cell_type": "code",
   "execution_count": null,
   "metadata": {},
   "outputs": [],
   "source": []
  },
  {
   "cell_type": "code",
   "execution_count": null,
   "metadata": {},
   "outputs": [],
   "source": []
  },
  {
   "cell_type": "code",
   "execution_count": null,
   "metadata": {},
   "outputs": [],
   "source": []
  }
 ],
 "metadata": {
  "kernelspec": {
   "display_name": "Python 3",
   "language": "python",
   "name": "python3"
  },
  "language_info": {
   "codemirror_mode": {
    "name": "ipython",
    "version": 3
   },
   "file_extension": ".py",
   "mimetype": "text/x-python",
   "name": "python",
   "nbconvert_exporter": "python",
   "pygments_lexer": "ipython3",
   "version": "3.8.3"
  }
 },
 "nbformat": 4,
 "nbformat_minor": 4
}
